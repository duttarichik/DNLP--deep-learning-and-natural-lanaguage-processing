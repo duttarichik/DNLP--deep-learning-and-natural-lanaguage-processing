{
 "cells": [
  {
   "cell_type": "code",
   "execution_count": 4,
   "id": "f4c3b588-8dae-44ef-a81e-309299b5f006",
   "metadata": {},
   "outputs": [],
   "source": [
    "import tensorflow as tf\n",
    "from keras.preprocessing.image import ImageDataGenerator"
   ]
  },
  {
   "cell_type": "code",
   "execution_count": 5,
   "id": "9213f1a0-0024-4028-ab61-dbe5bfd8db3d",
   "metadata": {},
   "outputs": [
    {
     "name": "stdout",
     "output_type": "stream",
     "text": [
      "Found 251 images belonging to 3 classes.\n"
     ]
    }
   ],
   "source": [
    "train_datagen = ImageDataGenerator(rescale = 1./255,\n",
    "                                   shear_range = 0.2,\n",
    "                                   zoom_range = 0.2,\n",
    "                                   horizontal_flip = True)\n",
    "training_set = train_datagen.flow_from_directory('Downloads/Covid19-dataset/train',\n",
    "                                                 target_size = (64, 64),\n",
    "                                                 batch_size = 32,\n",
    "                                                 class_mode = 'categorical')"
   ]
  },
  {
   "cell_type": "code",
   "execution_count": 6,
   "id": "de301929-447f-4e4b-9a1a-1826382cf579",
   "metadata": {},
   "outputs": [
    {
     "name": "stdout",
     "output_type": "stream",
     "text": [
      "Found 66 images belonging to 3 classes.\n"
     ]
    }
   ],
   "source": [
    "test_datagen = ImageDataGenerator(rescale = 1./255)\n",
    "test_set = test_datagen.flow_from_directory('Downloads/Covid19-dataset/test',\n",
    "                                            target_size = (64, 64),\n",
    "                                            batch_size = 32,\n",
    "                                            class_mode = 'categorical')"
   ]
  },
  {
   "cell_type": "code",
   "execution_count": 7,
   "id": "5587f5c2-13da-4c5d-acc8-a50873c3e3ea",
   "metadata": {},
   "outputs": [],
   "source": [
    "cnn = tf.keras.models.Sequential()"
   ]
  },
  {
   "cell_type": "code",
   "execution_count": 8,
   "id": "02f9cc6c-52b0-4c96-87c9-78b25386ec02",
   "metadata": {},
   "outputs": [],
   "source": [
    "cnn.add(tf.keras.layers.Conv2D(32,3,activation='relu', input_shape=[64, 64, 3]))"
   ]
  },
  {
   "cell_type": "code",
   "execution_count": 9,
   "id": "485292e4-ae1a-466e-a48a-2989b5343d19",
   "metadata": {},
   "outputs": [],
   "source": [
    "cnn.add(tf.keras.layers.MaxPool2D(pool_size=2, strides=2))"
   ]
  },
  {
   "cell_type": "code",
   "execution_count": 10,
   "id": "f7f23b2b-e786-41d8-9cf8-0ae79ef9a821",
   "metadata": {},
   "outputs": [],
   "source": [
    "cnn.add(tf.keras.layers.Conv2D(64,3,activation='relu'))\n",
    "cnn.add(tf.keras.layers.MaxPool2D(pool_size=2, strides=2))"
   ]
  },
  {
   "cell_type": "code",
   "execution_count": 11,
   "id": "2e0a63ab-04c3-4a1e-9394-3f4adf0fc38f",
   "metadata": {},
   "outputs": [],
   "source": [
    "cnn.add(tf.keras.layers.Conv2D(128,3,activation='relu'))\n",
    "cnn.add(tf.keras.layers.MaxPool2D(pool_size=2, strides=2))"
   ]
  },
  {
   "cell_type": "code",
   "execution_count": 12,
   "id": "89a8d60a-e2d9-4d8b-9d40-cffe1f983c18",
   "metadata": {},
   "outputs": [
    {
     "name": "stdout",
     "output_type": "stream",
     "text": [
      "Epoch 1/50\n",
      "8/8 [==============================] - 14s 2s/step - loss: 1.0828 - accuracy: 0.3944 - val_loss: 1.0325 - val_accuracy: 0.5909\n",
      "Epoch 2/50\n",
      "8/8 [==============================] - 12s 2s/step - loss: 0.9510 - accuracy: 0.5976 - val_loss: 0.7055 - val_accuracy: 0.7121\n",
      "Epoch 3/50\n",
      "8/8 [==============================] - 12s 1s/step - loss: 0.6714 - accuracy: 0.7052 - val_loss: 0.4124 - val_accuracy: 0.8788\n",
      "Epoch 4/50\n",
      "8/8 [==============================] - 12s 2s/step - loss: 0.4547 - accuracy: 0.8207 - val_loss: 0.3296 - val_accuracy: 0.8333\n",
      "Epoch 5/50\n",
      "8/8 [==============================] - 13s 2s/step - loss: 0.4522 - accuracy: 0.7928 - val_loss: 0.4028 - val_accuracy: 0.7879\n",
      "Epoch 6/50\n",
      "8/8 [==============================] - 12s 2s/step - loss: 0.3824 - accuracy: 0.8446 - val_loss: 0.4078 - val_accuracy: 0.7879\n",
      "Epoch 7/50\n",
      "8/8 [==============================] - 12s 2s/step - loss: 0.3800 - accuracy: 0.8645 - val_loss: 0.4338 - val_accuracy: 0.8333\n",
      "Epoch 8/50\n",
      "8/8 [==============================] - 12s 1s/step - loss: 0.3407 - accuracy: 0.8486 - val_loss: 0.3029 - val_accuracy: 0.8939\n",
      "Epoch 9/50\n",
      "8/8 [==============================] - 13s 2s/step - loss: 0.3224 - accuracy: 0.8645 - val_loss: 0.3039 - val_accuracy: 0.8939\n",
      "Epoch 10/50\n",
      "8/8 [==============================] - 12s 1s/step - loss: 0.2929 - accuracy: 0.8845 - val_loss: 0.3435 - val_accuracy: 0.8788\n",
      "Epoch 11/50\n",
      "8/8 [==============================] - 12s 2s/step - loss: 0.2858 - accuracy: 0.8884 - val_loss: 0.4298 - val_accuracy: 0.7879\n",
      "Epoch 12/50\n",
      "8/8 [==============================] - 12s 2s/step - loss: 0.2576 - accuracy: 0.9084 - val_loss: 0.3428 - val_accuracy: 0.8333\n",
      "Epoch 13/50\n",
      "8/8 [==============================] - 12s 1s/step - loss: 0.2290 - accuracy: 0.9163 - val_loss: 0.3419 - val_accuracy: 0.8030\n",
      "Epoch 14/50\n",
      "8/8 [==============================] - 12s 2s/step - loss: 0.2548 - accuracy: 0.9124 - val_loss: 0.2463 - val_accuracy: 0.8788\n",
      "Epoch 15/50\n",
      "8/8 [==============================] - 12s 1s/step - loss: 0.2257 - accuracy: 0.9163 - val_loss: 0.4981 - val_accuracy: 0.8030\n",
      "Epoch 16/50\n",
      "8/8 [==============================] - 13s 2s/step - loss: 0.2903 - accuracy: 0.8964 - val_loss: 0.2857 - val_accuracy: 0.8939\n",
      "Epoch 17/50\n",
      "8/8 [==============================] - 12s 2s/step - loss: 0.2226 - accuracy: 0.9363 - val_loss: 0.2486 - val_accuracy: 0.9091\n",
      "Epoch 18/50\n",
      "8/8 [==============================] - 13s 2s/step - loss: 0.2250 - accuracy: 0.9084 - val_loss: 0.2593 - val_accuracy: 0.8788\n",
      "Epoch 19/50\n",
      "8/8 [==============================] - 14s 2s/step - loss: 0.1730 - accuracy: 0.9363 - val_loss: 0.2291 - val_accuracy: 0.8788\n",
      "Epoch 20/50\n",
      "8/8 [==============================] - 13s 2s/step - loss: 0.1818 - accuracy: 0.9442 - val_loss: 0.1915 - val_accuracy: 0.9394\n",
      "Epoch 21/50\n",
      "8/8 [==============================] - 13s 2s/step - loss: 0.1994 - accuracy: 0.9203 - val_loss: 0.2345 - val_accuracy: 0.8939\n",
      "Epoch 22/50\n",
      "8/8 [==============================] - 13s 2s/step - loss: 0.1973 - accuracy: 0.9283 - val_loss: 0.3621 - val_accuracy: 0.8636\n",
      "Epoch 23/50\n",
      "8/8 [==============================] - 12s 2s/step - loss: 0.2211 - accuracy: 0.9363 - val_loss: 0.4324 - val_accuracy: 0.8182\n",
      "Epoch 24/50\n",
      "8/8 [==============================] - 13s 2s/step - loss: 0.1907 - accuracy: 0.9283 - val_loss: 0.1405 - val_accuracy: 0.9242\n",
      "Epoch 25/50\n",
      "8/8 [==============================] - 13s 2s/step - loss: 0.1651 - accuracy: 0.9402 - val_loss: 0.1661 - val_accuracy: 0.9394\n",
      "Epoch 26/50\n",
      "8/8 [==============================] - 12s 2s/step - loss: 0.1364 - accuracy: 0.9602 - val_loss: 0.1368 - val_accuracy: 0.9242\n",
      "Epoch 27/50\n",
      "8/8 [==============================] - 12s 1s/step - loss: 0.1487 - accuracy: 0.9442 - val_loss: 0.2699 - val_accuracy: 0.8939\n",
      "Epoch 28/50\n",
      "8/8 [==============================] - 12s 2s/step - loss: 0.1892 - accuracy: 0.9243 - val_loss: 0.2019 - val_accuracy: 0.9091\n",
      "Epoch 29/50\n",
      "8/8 [==============================] - 12s 2s/step - loss: 0.1995 - accuracy: 0.9203 - val_loss: 0.1870 - val_accuracy: 0.8788\n",
      "Epoch 30/50\n",
      "8/8 [==============================] - 12s 1s/step - loss: 0.1793 - accuracy: 0.9283 - val_loss: 0.2128 - val_accuracy: 0.9091\n",
      "Epoch 31/50\n",
      "8/8 [==============================] - 12s 2s/step - loss: 0.2310 - accuracy: 0.9163 - val_loss: 0.2428 - val_accuracy: 0.9091\n",
      "Epoch 32/50\n",
      "8/8 [==============================] - 12s 2s/step - loss: 0.1307 - accuracy: 0.9602 - val_loss: 0.2498 - val_accuracy: 0.8939\n",
      "Epoch 33/50\n",
      "8/8 [==============================] - 12s 2s/step - loss: 0.1504 - accuracy: 0.9363 - val_loss: 0.1527 - val_accuracy: 0.9242\n",
      "Epoch 34/50\n",
      "8/8 [==============================] - 12s 1s/step - loss: 0.1880 - accuracy: 0.9323 - val_loss: 0.2997 - val_accuracy: 0.9242\n",
      "Epoch 35/50\n",
      "8/8 [==============================] - 13s 2s/step - loss: 0.1920 - accuracy: 0.9124 - val_loss: 0.2166 - val_accuracy: 0.8939\n",
      "Epoch 36/50\n",
      "8/8 [==============================] - 12s 2s/step - loss: 0.1313 - accuracy: 0.9562 - val_loss: 0.1706 - val_accuracy: 0.9242\n",
      "Epoch 37/50\n",
      "8/8 [==============================] - 12s 2s/step - loss: 0.1461 - accuracy: 0.9522 - val_loss: 0.2357 - val_accuracy: 0.9394\n",
      "Epoch 38/50\n",
      "8/8 [==============================] - 12s 2s/step - loss: 0.1125 - accuracy: 0.9641 - val_loss: 0.1248 - val_accuracy: 0.9545\n",
      "Epoch 39/50\n",
      "8/8 [==============================] - 12s 2s/step - loss: 0.1166 - accuracy: 0.9681 - val_loss: 0.1389 - val_accuracy: 0.9394\n",
      "Epoch 40/50\n",
      "8/8 [==============================] - 12s 2s/step - loss: 0.0924 - accuracy: 0.9602 - val_loss: 0.1880 - val_accuracy: 0.9242\n",
      "Epoch 41/50\n",
      "8/8 [==============================] - 12s 2s/step - loss: 0.0802 - accuracy: 0.9641 - val_loss: 0.1128 - val_accuracy: 0.9545\n",
      "Epoch 42/50\n",
      "8/8 [==============================] - 12s 2s/step - loss: 0.0955 - accuracy: 0.9562 - val_loss: 0.1438 - val_accuracy: 0.9394\n",
      "Epoch 43/50\n",
      "8/8 [==============================] - 12s 2s/step - loss: 0.1493 - accuracy: 0.9681 - val_loss: 0.4037 - val_accuracy: 0.8485\n",
      "Epoch 44/50\n",
      "8/8 [==============================] - 12s 2s/step - loss: 0.1615 - accuracy: 0.9363 - val_loss: 0.2252 - val_accuracy: 0.9091\n",
      "Epoch 45/50\n",
      "8/8 [==============================] - 12s 2s/step - loss: 0.1385 - accuracy: 0.9522 - val_loss: 0.2131 - val_accuracy: 0.9242\n",
      "Epoch 46/50\n",
      "8/8 [==============================] - 12s 2s/step - loss: 0.1283 - accuracy: 0.9482 - val_loss: 0.2390 - val_accuracy: 0.9242\n",
      "Epoch 47/50\n",
      "8/8 [==============================] - 13s 2s/step - loss: 0.1549 - accuracy: 0.9363 - val_loss: 0.2280 - val_accuracy: 0.9394\n",
      "Epoch 48/50\n",
      "8/8 [==============================] - 12s 2s/step - loss: 0.1342 - accuracy: 0.9442 - val_loss: 0.1853 - val_accuracy: 0.9091\n",
      "Epoch 49/50\n",
      "8/8 [==============================] - 13s 2s/step - loss: 0.1138 - accuracy: 0.9562 - val_loss: 0.1708 - val_accuracy: 0.9394\n",
      "Epoch 50/50\n",
      "8/8 [==============================] - 12s 2s/step - loss: 0.0875 - accuracy: 0.9641 - val_loss: 0.2710 - val_accuracy: 0.8636\n"
     ]
    },
    {
     "data": {
      "text/plain": [
       "<keras.callbacks.History at 0x194b32c0880>"
      ]
     },
     "execution_count": 12,
     "metadata": {},
     "output_type": "execute_result"
    }
   ],
   "source": [
    "cnn.add(tf.keras.layers.Flatten())\n",
    "cnn.add(tf.keras.layers.Dense(units=128, activation='relu'))\n",
    "#cnn.add(tf.keras.layers.Dense(units=1, activation='sigmoid'))\n",
    "cnn.add(tf.keras.layers.Dense(3, activation='softmax'))\n",
    "cnn.compile(loss = 'categorical_crossentropy', optimizer='adam', metrics = ['accuracy'])\n",
    "cnn.fit(x = training_set, validation_data = test_set, epochs = 50)"
   ]
  },
  {
   "cell_type": "code",
   "execution_count": 23,
   "id": "687ca39f-352f-4756-8872-fa4bf5b11692",
   "metadata": {},
   "outputs": [
    {
     "name": "stdout",
     "output_type": "stream",
     "text": [
      "1/1 [==============================] - 0s 22ms/step\n",
      "3\n",
      "\n"
     ]
    }
   ],
   "source": [
    "import numpy as np\n",
    "from tensorflow.keras.preprocessing import image\n",
    "\n",
    "test_image = image.load_img(\"C:\" , target_size = (64, 64))\n",
    "\n",
    "\n",
    "test_image = image.img_to_array(test_image)\n",
    "test_image = np.expand_dims(test_image,axis = 0)\n",
    "\n",
    "\n",
    "result = cnn.predict(test_image)\n",
    "\n",
    "result=result.astype(int)\n",
    "Y=training_set.class_indices\n",
    "j=0\n",
    "i = 0\n",
    "while i < 3:\n",
    "    \n",
    "    if result[0][i] == 1:\n",
    "        break\n",
    "    i=i+1\n",
    "print(i)\n",
    "j=i\n",
    "if j == 0:\n",
    " prediction = 'covid'\n",
    "    \n",
    "elif j == 1:\n",
    " prediction = 'normal'\n",
    "elif j == 2:\n",
    " prediction = 'viral'"
   ]
  },
  {
   "cell_type": "code",
   "execution_count": null,
   "id": "26213616-77a2-46a0-b57f-6a8e9fc5b9fd",
   "metadata": {},
   "outputs": [],
   "source": []
  }
 ],
 "metadata": {
  "kernelspec": {
   "display_name": "Python 3 (ipykernel)",
   "language": "python",
   "name": "python3"
  },
  "language_info": {
   "codemirror_mode": {
    "name": "ipython",
    "version": 3
   },
   "file_extension": ".py",
   "mimetype": "text/x-python",
   "name": "python",
   "nbconvert_exporter": "python",
   "pygments_lexer": "ipython3",
   "version": "3.9.7"
  }
 },
 "nbformat": 4,
 "nbformat_minor": 5
}
