{
 "cells": [
  {
   "cell_type": "code",
   "execution_count": 21,
   "id": "f4c3b588-8dae-44ef-a81e-309299b5f006",
   "metadata": {},
   "outputs": [],
   "source": [
    "import tensorflow as tf\n",
    "from keras.preprocessing.image import ImageDataGenerator"
   ]
  },
  {
   "cell_type": "code",
   "execution_count": 22,
   "id": "9213f1a0-0024-4028-ab61-dbe5bfd8db3d",
   "metadata": {},
   "outputs": [
    {
     "name": "stdout",
     "output_type": "stream",
     "text": [
      "Found 251 images belonging to 3 classes.\n"
     ]
    }
   ],
   "source": [
    "train_datagen = ImageDataGenerator(rescale = 1./255,\n",
    "                                   shear_range = 0.2,\n",
    "                                   zoom_range = 0.2,\n",
    "                                   horizontal_flip = True)\n",
    "training_set = train_datagen.flow_from_directory('Downloads/Covid19-dataset/train',\n",
    "                                                 target_size = (64, 64),\n",
    "                                                 batch_size = 32,\n",
    "                                                 class_mode = 'categorical')"
   ]
  },
  {
   "cell_type": "code",
   "execution_count": 23,
   "id": "de301929-447f-4e4b-9a1a-1826382cf579",
   "metadata": {},
   "outputs": [
    {
     "name": "stdout",
     "output_type": "stream",
     "text": [
      "Found 66 images belonging to 3 classes.\n"
     ]
    }
   ],
   "source": [
    "test_datagen = ImageDataGenerator(rescale = 1./255)\n",
    "test_set = test_datagen.flow_from_directory('Downloads/Covid19-dataset/test',\n",
    "                                            target_size = (64, 64),\n",
    "                                            batch_size = 32,\n",
    "                                            class_mode = 'categorical')"
   ]
  },
  {
   "cell_type": "code",
   "execution_count": 24,
   "id": "5587f5c2-13da-4c5d-acc8-a50873c3e3ea",
   "metadata": {},
   "outputs": [],
   "source": [
    "cnn = tf.keras.models.Sequential()"
   ]
  },
  {
   "cell_type": "code",
   "execution_count": 25,
   "id": "02f9cc6c-52b0-4c96-87c9-78b25386ec02",
   "metadata": {},
   "outputs": [],
   "source": [
    "cnn.add(tf.keras.layers.Conv2D(32,(3,3),activation='relu', input_shape=[64, 64, 3]))"
   ]
  },
  {
   "cell_type": "code",
   "execution_count": 26,
   "id": "485292e4-ae1a-466e-a48a-2989b5343d19",
   "metadata": {},
   "outputs": [],
   "source": [
    "cnn.add(tf.keras.layers.MaxPool2D(pool_size=2, strides=2))"
   ]
  },
  {
   "cell_type": "code",
   "execution_count": 27,
   "id": "f7f23b2b-e786-41d8-9cf8-0ae79ef9a821",
   "metadata": {},
   "outputs": [],
   "source": [
    "cnn.add(tf.keras.layers.Conv2D(32,(3,3),activation='relu'))\n",
    "cnn.add(tf.keras.layers.MaxPool2D(pool_size=2, strides=2))"
   ]
  },
  {
   "cell_type": "code",
   "execution_count": 28,
   "id": "2e0a63ab-04c3-4a1e-9394-3f4adf0fc38f",
   "metadata": {},
   "outputs": [],
   "source": [
    "cnn.add(tf.keras.layers.Conv2D(32,(3,3),activation='relu'))\n",
    "cnn.add(tf.keras.layers.MaxPool2D(pool_size=2, strides=2))"
   ]
  },
  {
   "cell_type": "code",
   "execution_count": 29,
   "id": "89a8d60a-e2d9-4d8b-9d40-cffe1f983c18",
   "metadata": {},
   "outputs": [
    {
     "name": "stdout",
     "output_type": "stream",
     "text": [
      "Epoch 1/50\n",
      "8/8 [==============================] - 23s 3s/step - loss: 1.1025 - accuracy: 0.2948 - val_loss: 1.0979 - val_accuracy: 0.3939\n",
      "Epoch 2/50\n",
      "8/8 [==============================] - 23s 3s/step - loss: 1.0969 - accuracy: 0.4422 - val_loss: 1.0974 - val_accuracy: 0.3939\n",
      "Epoch 3/50\n",
      "8/8 [==============================] - 20s 3s/step - loss: 1.0960 - accuracy: 0.4422 - val_loss: 1.0969 - val_accuracy: 0.3939\n",
      "Epoch 4/50\n",
      "8/8 [==============================] - 21s 3s/step - loss: 1.0951 - accuracy: 0.4422 - val_loss: 1.0964 - val_accuracy: 0.3939\n",
      "Epoch 5/50\n",
      "8/8 [==============================] - 21s 3s/step - loss: 1.0941 - accuracy: 0.4422 - val_loss: 1.0958 - val_accuracy: 0.3939\n",
      "Epoch 6/50\n",
      "8/8 [==============================] - 23s 3s/step - loss: 1.0930 - accuracy: 0.4422 - val_loss: 1.0954 - val_accuracy: 0.3939\n",
      "Epoch 7/50\n",
      "8/8 [==============================] - 23s 3s/step - loss: 1.0921 - accuracy: 0.4422 - val_loss: 1.0949 - val_accuracy: 0.3939\n",
      "Epoch 8/50\n",
      "8/8 [==============================] - 22s 3s/step - loss: 1.0912 - accuracy: 0.4422 - val_loss: 1.0945 - val_accuracy: 0.3939\n",
      "Epoch 9/50\n",
      "8/8 [==============================] - 20s 3s/step - loss: 1.0903 - accuracy: 0.4422 - val_loss: 1.0942 - val_accuracy: 0.3939\n",
      "Epoch 10/50\n",
      "8/8 [==============================] - 22s 3s/step - loss: 1.0896 - accuracy: 0.4422 - val_loss: 1.0938 - val_accuracy: 0.3939\n",
      "Epoch 11/50\n",
      "8/8 [==============================] - 20s 3s/step - loss: 1.0888 - accuracy: 0.4422 - val_loss: 1.0934 - val_accuracy: 0.3939\n",
      "Epoch 12/50\n",
      "8/8 [==============================] - 22s 3s/step - loss: 1.0879 - accuracy: 0.4422 - val_loss: 1.0931 - val_accuracy: 0.3939\n",
      "Epoch 13/50\n",
      "8/8 [==============================] - 22s 3s/step - loss: 1.0874 - accuracy: 0.4422 - val_loss: 1.0928 - val_accuracy: 0.3939\n",
      "Epoch 14/50\n",
      "8/8 [==============================] - 24s 3s/step - loss: 1.0865 - accuracy: 0.4422 - val_loss: 1.0925 - val_accuracy: 0.3939\n",
      "Epoch 15/50\n",
      "8/8 [==============================] - 22s 3s/step - loss: 1.0857 - accuracy: 0.4422 - val_loss: 1.0923 - val_accuracy: 0.3939\n",
      "Epoch 16/50\n",
      "8/8 [==============================] - 22s 3s/step - loss: 1.0852 - accuracy: 0.4422 - val_loss: 1.0920 - val_accuracy: 0.3939\n",
      "Epoch 17/50\n",
      "8/8 [==============================] - 23s 3s/step - loss: 1.0845 - accuracy: 0.4422 - val_loss: 1.0918 - val_accuracy: 0.3939\n",
      "Epoch 18/50\n",
      "8/8 [==============================] - 16s 2s/step - loss: 1.0839 - accuracy: 0.4422 - val_loss: 1.0917 - val_accuracy: 0.3939\n",
      "Epoch 19/50\n",
      "8/8 [==============================] - 12s 2s/step - loss: 1.0834 - accuracy: 0.4422 - val_loss: 1.0915 - val_accuracy: 0.3939\n",
      "Epoch 20/50\n",
      "8/8 [==============================] - 12s 1s/step - loss: 1.0828 - accuracy: 0.4422 - val_loss: 1.0913 - val_accuracy: 0.3939\n",
      "Epoch 21/50\n",
      "8/8 [==============================] - 12s 1s/step - loss: 1.0824 - accuracy: 0.4422 - val_loss: 1.0912 - val_accuracy: 0.3939\n",
      "Epoch 22/50\n",
      "8/8 [==============================] - 12s 1s/step - loss: 1.0819 - accuracy: 0.4422 - val_loss: 1.0911 - val_accuracy: 0.3939\n",
      "Epoch 23/50\n",
      "8/8 [==============================] - 14s 2s/step - loss: 1.0814 - accuracy: 0.4422 - val_loss: 1.0910 - val_accuracy: 0.3939\n",
      "Epoch 24/50\n",
      "8/8 [==============================] - 13s 2s/step - loss: 1.0809 - accuracy: 0.4422 - val_loss: 1.0909 - val_accuracy: 0.3939\n",
      "Epoch 25/50\n",
      "8/8 [==============================] - 13s 2s/step - loss: 1.0804 - accuracy: 0.4422 - val_loss: 1.0908 - val_accuracy: 0.3939\n",
      "Epoch 26/50\n",
      "8/8 [==============================] - 12s 2s/step - loss: 1.0801 - accuracy: 0.4422 - val_loss: 1.0907 - val_accuracy: 0.3939\n",
      "Epoch 27/50\n",
      "8/8 [==============================] - 12s 2s/step - loss: 1.0798 - accuracy: 0.4422 - val_loss: 1.0907 - val_accuracy: 0.3939\n",
      "Epoch 28/50\n",
      "8/8 [==============================] - 12s 1s/step - loss: 1.0793 - accuracy: 0.4422 - val_loss: 1.0906 - val_accuracy: 0.3939\n",
      "Epoch 29/50\n",
      "8/8 [==============================] - 12s 2s/step - loss: 1.0790 - accuracy: 0.4422 - val_loss: 1.0906 - val_accuracy: 0.3939\n",
      "Epoch 30/50\n",
      "8/8 [==============================] - 12s 1s/step - loss: 1.0787 - accuracy: 0.4422 - val_loss: 1.0906 - val_accuracy: 0.3939\n",
      "Epoch 31/50\n",
      "8/8 [==============================] - 12s 2s/step - loss: 1.0783 - accuracy: 0.4422 - val_loss: 1.0906 - val_accuracy: 0.3939\n",
      "Epoch 32/50\n",
      "8/8 [==============================] - 12s 1s/step - loss: 1.0780 - accuracy: 0.4422 - val_loss: 1.0906 - val_accuracy: 0.3939\n",
      "Epoch 33/50\n",
      "8/8 [==============================] - 12s 2s/step - loss: 1.0778 - accuracy: 0.4422 - val_loss: 1.0906 - val_accuracy: 0.3939\n",
      "Epoch 34/50\n",
      "8/8 [==============================] - 12s 1s/step - loss: 1.0774 - accuracy: 0.4422 - val_loss: 1.0906 - val_accuracy: 0.3939\n",
      "Epoch 35/50\n",
      "8/8 [==============================] - 12s 2s/step - loss: 1.0773 - accuracy: 0.4422 - val_loss: 1.0906 - val_accuracy: 0.3939\n",
      "Epoch 36/50\n",
      "8/8 [==============================] - 12s 1s/step - loss: 1.0770 - accuracy: 0.4422 - val_loss: 1.0906 - val_accuracy: 0.3939\n",
      "Epoch 37/50\n",
      "8/8 [==============================] - 12s 1s/step - loss: 1.0768 - accuracy: 0.4422 - val_loss: 1.0907 - val_accuracy: 0.3939\n",
      "Epoch 38/50\n",
      "8/8 [==============================] - 12s 2s/step - loss: 1.0766 - accuracy: 0.4422 - val_loss: 1.0907 - val_accuracy: 0.3939\n",
      "Epoch 39/50\n",
      "8/8 [==============================] - 12s 2s/step - loss: 1.0764 - accuracy: 0.4422 - val_loss: 1.0908 - val_accuracy: 0.3939\n",
      "Epoch 40/50\n",
      "8/8 [==============================] - 12s 2s/step - loss: 1.0762 - accuracy: 0.4422 - val_loss: 1.0908 - val_accuracy: 0.3939\n",
      "Epoch 41/50\n",
      "8/8 [==============================] - 13s 2s/step - loss: 1.0759 - accuracy: 0.4422 - val_loss: 1.0909 - val_accuracy: 0.3939\n",
      "Epoch 42/50\n",
      "8/8 [==============================] - 12s 1s/step - loss: 1.0758 - accuracy: 0.4422 - val_loss: 1.0909 - val_accuracy: 0.3939\n",
      "Epoch 43/50\n",
      "8/8 [==============================] - 12s 2s/step - loss: 1.0756 - accuracy: 0.4422 - val_loss: 1.0910 - val_accuracy: 0.3939\n",
      "Epoch 44/50\n",
      "8/8 [==============================] - 12s 2s/step - loss: 1.0755 - accuracy: 0.4422 - val_loss: 1.0910 - val_accuracy: 0.3939\n",
      "Epoch 45/50\n",
      "8/8 [==============================] - 12s 1s/step - loss: 1.0753 - accuracy: 0.4422 - val_loss: 1.0911 - val_accuracy: 0.3939\n",
      "Epoch 46/50\n",
      "8/8 [==============================] - 12s 1s/step - loss: 1.0752 - accuracy: 0.4422 - val_loss: 1.0912 - val_accuracy: 0.3939\n",
      "Epoch 47/50\n",
      "8/8 [==============================] - 12s 1s/step - loss: 1.0751 - accuracy: 0.4422 - val_loss: 1.0912 - val_accuracy: 0.3939\n",
      "Epoch 48/50\n",
      "8/8 [==============================] - 12s 2s/step - loss: 1.0749 - accuracy: 0.4422 - val_loss: 1.0913 - val_accuracy: 0.3939\n",
      "Epoch 49/50\n",
      "8/8 [==============================] - 12s 1s/step - loss: 1.0748 - accuracy: 0.4422 - val_loss: 1.0914 - val_accuracy: 0.3939\n",
      "Epoch 50/50\n",
      "8/8 [==============================] - 12s 1s/step - loss: 1.0747 - accuracy: 0.4422 - val_loss: 1.0914 - val_accuracy: 0.3939\n"
     ]
    },
    {
     "data": {
      "text/plain": [
       "<keras.callbacks.History at 0x1c95976c190>"
      ]
     },
     "execution_count": 29,
     "metadata": {},
     "output_type": "execute_result"
    }
   ],
   "source": [
    "cnn.add(tf.keras.layers.Flatten())\n",
    "cnn.add(tf.keras.layers.Dense(units=128, activation='relu'))\n",
    "cnn.add(tf.keras.layers.Dense(units=1, activation='sigmoid'))\n",
    "cnn.add(tf.keras.layers.Dense(3, activation='softmax'))\n",
    "cnn.compile(loss = 'kullback_leibler_divergence', optimizer='adam', metrics = ['accuracy'])\n",
    "cnn.fit(x = training_set, validation_data = test_set, epochs = 50)"
   ]
  },
  {
   "cell_type": "code",
   "execution_count": null,
   "id": "687ca39f-352f-4756-8872-fa4bf5b11692",
   "metadata": {},
   "outputs": [
    {
     "name": "stdout",
     "output_type": "stream",
     "text": [
      "1/1 [==============================] - 0s 221ms/step\n",
      "[[0.5180326  0.0893468  0.39262056]]\n"
     ]
    }
   ],
   "source": []
  },
  {
   "cell_type": "code",
   "execution_count": null,
   "id": "12fbc76d-efba-4f38-80d9-7a102b0f36d9",
   "metadata": {},
   "outputs": [],
   "source": []
  }
 ],
 "metadata": {
  "kernelspec": {
   "display_name": "Python 3 (ipykernel)",
   "language": "python",
   "name": "python3"
  },
  "language_info": {
   "codemirror_mode": {
    "name": "ipython",
    "version": 3
   },
   "file_extension": ".py",
   "mimetype": "text/x-python",
   "name": "python",
   "nbconvert_exporter": "python",
   "pygments_lexer": "ipython3",
   "version": "3.9.7"
  }
 },
 "nbformat": 4,
 "nbformat_minor": 5
}
