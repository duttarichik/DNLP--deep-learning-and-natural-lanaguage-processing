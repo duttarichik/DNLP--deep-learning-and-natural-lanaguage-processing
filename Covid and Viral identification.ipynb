{
 "cells": [
  {
   "cell_type": "code",
   "execution_count": 1,
   "id": "f4c3b588-8dae-44ef-a81e-309299b5f006",
   "metadata": {},
   "outputs": [],
   "source": [
    "import tensorflow as tf\n",
    "from keras.preprocessing.image import ImageDataGenerator"
   ]
  },
  {
   "cell_type": "code",
   "execution_count": 5,
   "id": "9213f1a0-0024-4028-ab61-dbe5bfd8db3d",
   "metadata": {},
   "outputs": [
    {
     "name": "stdout",
     "output_type": "stream",
     "text": [
      "Found 251 images belonging to 3 classes.\n"
     ]
    }
   ],
   "source": [
    "train_datagen = ImageDataGenerator(rescale = 1./255,\n",
    "                                   shear_range = 0.2,\n",
    "                                   zoom_range = 0.2,\n",
    "                                   horizontal_flip = True)\n",
    "training_set = train_datagen.flow_from_directory('C:/Users/DELL/Downloads/Covid19-dataset/train',\n",
    "                                                 target_size = (64, 64),\n",
    "                                                 batch_size = 32,\n",
    "                                                 class_mode = 'categorical')"
   ]
  },
  {
   "cell_type": "code",
   "execution_count": 10,
   "id": "de301929-447f-4e4b-9a1a-1826382cf579",
   "metadata": {},
   "outputs": [
    {
     "name": "stdout",
     "output_type": "stream",
     "text": [
      "Found 66 images belonging to 3 classes.\n"
     ]
    }
   ],
   "source": [
    "test_datagen = ImageDataGenerator(rescale = 1./255)\n",
    "test_set = test_datagen.flow_from_directory('C:/Users/DELL/Downloads/Covid19-dataset/test',\n",
    "                                            target_size = (64, 64),\n",
    "                                            batch_size = 32,\n",
    "                                            class_mode = 'categorical')"
   ]
  },
  {
   "cell_type": "code",
   "execution_count": 11,
   "id": "5587f5c2-13da-4c5d-acc8-a50873c3e3ea",
   "metadata": {},
   "outputs": [],
   "source": [
    "cnn = tf.keras.models.Sequential()"
   ]
  },
  {
   "cell_type": "code",
   "execution_count": 12,
   "id": "02f9cc6c-52b0-4c96-87c9-78b25386ec02",
   "metadata": {},
   "outputs": [],
   "source": [
    "cnn.add(tf.keras.layers.Conv2D(32,3,activation='relu', input_shape=[64, 64, 3]))"
   ]
  },
  {
   "cell_type": "code",
   "execution_count": 13,
   "id": "485292e4-ae1a-466e-a48a-2989b5343d19",
   "metadata": {},
   "outputs": [],
   "source": [
    "cnn.add(tf.keras.layers.MaxPool2D(pool_size=2, strides=2))"
   ]
  },
  {
   "cell_type": "code",
   "execution_count": 14,
   "id": "f7f23b2b-e786-41d8-9cf8-0ae79ef9a821",
   "metadata": {},
   "outputs": [],
   "source": [
    "cnn.add(tf.keras.layers.Conv2D(64,3,activation='relu'))\n",
    "cnn.add(tf.keras.layers.MaxPool2D(pool_size=2, strides=2))"
   ]
  },
  {
   "cell_type": "code",
   "execution_count": 15,
   "id": "2e0a63ab-04c3-4a1e-9394-3f4adf0fc38f",
   "metadata": {},
   "outputs": [],
   "source": [
    "cnn.add(tf.keras.layers.Conv2D(128,3,activation='relu'))\n",
    "cnn.add(tf.keras.layers.MaxPool2D(pool_size=2, strides=2))"
   ]
  },
  {
   "cell_type": "code",
   "execution_count": 16,
   "id": "89a8d60a-e2d9-4d8b-9d40-cffe1f983c18",
   "metadata": {},
   "outputs": [
    {
     "name": "stdout",
     "output_type": "stream",
     "text": [
      "Epoch 1/30\n",
      "8/8 [==============================] - 27s 3s/step - loss: 1.0588 - accuracy: 0.4900 - val_loss: 1.0147 - val_accuracy: 0.6818\n",
      "Epoch 2/30\n",
      "8/8 [==============================] - 21s 3s/step - loss: 0.8522 - accuracy: 0.6813 - val_loss: 0.5073 - val_accuracy: 0.8788\n",
      "Epoch 3/30\n",
      "8/8 [==============================] - 21s 3s/step - loss: 0.4928 - accuracy: 0.8167 - val_loss: 0.3564 - val_accuracy: 0.8788\n",
      "Epoch 4/30\n",
      "8/8 [==============================] - 20s 3s/step - loss: 0.5115 - accuracy: 0.8048 - val_loss: 0.4969 - val_accuracy: 0.7121\n",
      "Epoch 5/30\n",
      "8/8 [==============================] - 24s 3s/step - loss: 0.6016 - accuracy: 0.8008 - val_loss: 0.3403 - val_accuracy: 0.8182\n",
      "Epoch 6/30\n",
      "8/8 [==============================] - 20s 3s/step - loss: 0.4676 - accuracy: 0.8406 - val_loss: 0.4872 - val_accuracy: 0.8030\n",
      "Epoch 7/30\n",
      "8/8 [==============================] - 19s 2s/step - loss: 0.4061 - accuracy: 0.8566 - val_loss: 0.3033 - val_accuracy: 0.8939\n",
      "Epoch 8/30\n",
      "8/8 [==============================] - 21s 3s/step - loss: 0.3551 - accuracy: 0.8526 - val_loss: 0.2845 - val_accuracy: 0.8788\n",
      "Epoch 9/30\n",
      "8/8 [==============================] - 20s 3s/step - loss: 0.2951 - accuracy: 0.8606 - val_loss: 0.3692 - val_accuracy: 0.8333\n",
      "Epoch 10/30\n",
      "8/8 [==============================] - 21s 3s/step - loss: 0.3560 - accuracy: 0.8725 - val_loss: 0.2460 - val_accuracy: 0.8939\n",
      "Epoch 11/30\n",
      "8/8 [==============================] - 20s 3s/step - loss: 0.3242 - accuracy: 0.8486 - val_loss: 0.3855 - val_accuracy: 0.7576\n",
      "Epoch 12/30\n",
      "8/8 [==============================] - 20s 3s/step - loss: 0.3113 - accuracy: 0.9004 - val_loss: 0.3584 - val_accuracy: 0.8636\n",
      "Epoch 13/30\n",
      "8/8 [==============================] - 20s 3s/step - loss: 0.2892 - accuracy: 0.9004 - val_loss: 0.3761 - val_accuracy: 0.8788\n",
      "Epoch 14/30\n",
      "8/8 [==============================] - 23s 3s/step - loss: 0.2740 - accuracy: 0.8884 - val_loss: 0.2934 - val_accuracy: 0.8636\n",
      "Epoch 15/30\n",
      "8/8 [==============================] - 23s 3s/step - loss: 0.2327 - accuracy: 0.9124 - val_loss: 0.3803 - val_accuracy: 0.7879\n",
      "Epoch 16/30\n",
      "8/8 [==============================] - 23s 3s/step - loss: 0.2456 - accuracy: 0.9243 - val_loss: 0.4708 - val_accuracy: 0.8333\n",
      "Epoch 17/30\n",
      "8/8 [==============================] - 22s 3s/step - loss: 0.2640 - accuracy: 0.8924 - val_loss: 0.4078 - val_accuracy: 0.8333\n",
      "Epoch 18/30\n",
      "8/8 [==============================] - 23s 3s/step - loss: 0.2791 - accuracy: 0.8685 - val_loss: 0.2488 - val_accuracy: 0.8788\n",
      "Epoch 19/30\n",
      "8/8 [==============================] - 23s 3s/step - loss: 0.2894 - accuracy: 0.9084 - val_loss: 0.2895 - val_accuracy: 0.9091\n",
      "Epoch 20/30\n",
      "8/8 [==============================] - 21s 3s/step - loss: 0.2355 - accuracy: 0.9124 - val_loss: 0.2271 - val_accuracy: 0.8939\n",
      "Epoch 21/30\n",
      "8/8 [==============================] - 22s 3s/step - loss: 0.2165 - accuracy: 0.9124 - val_loss: 0.1775 - val_accuracy: 0.9091\n",
      "Epoch 22/30\n",
      "8/8 [==============================] - 22s 3s/step - loss: 0.2194 - accuracy: 0.9323 - val_loss: 0.2565 - val_accuracy: 0.9091\n",
      "Epoch 23/30\n",
      "8/8 [==============================] - 21s 3s/step - loss: 0.2045 - accuracy: 0.9323 - val_loss: 0.3572 - val_accuracy: 0.8485\n",
      "Epoch 24/30\n",
      "8/8 [==============================] - 22s 3s/step - loss: 0.2125 - accuracy: 0.9203 - val_loss: 0.2039 - val_accuracy: 0.9091\n",
      "Epoch 25/30\n",
      "8/8 [==============================] - 21s 2s/step - loss: 0.1926 - accuracy: 0.9442 - val_loss: 0.2004 - val_accuracy: 0.9091\n",
      "Epoch 26/30\n",
      "8/8 [==============================] - 20s 2s/step - loss: 0.1744 - accuracy: 0.9323 - val_loss: 0.1618 - val_accuracy: 0.9394\n",
      "Epoch 27/30\n",
      "8/8 [==============================] - 20s 3s/step - loss: 0.1939 - accuracy: 0.9203 - val_loss: 0.1780 - val_accuracy: 0.9091\n",
      "Epoch 28/30\n",
      "8/8 [==============================] - 21s 3s/step - loss: 0.1826 - accuracy: 0.9323 - val_loss: 0.1812 - val_accuracy: 0.9394\n",
      "Epoch 29/30\n",
      "8/8 [==============================] - 22s 3s/step - loss: 0.1216 - accuracy: 0.9562 - val_loss: 0.1424 - val_accuracy: 0.9545\n",
      "Epoch 30/30\n",
      "8/8 [==============================] - 23s 3s/step - loss: 0.1414 - accuracy: 0.9641 - val_loss: 0.1160 - val_accuracy: 0.9394\n"
     ]
    },
    {
     "data": {
      "text/plain": [
       "<keras.callbacks.History at 0x1f09742ba30>"
      ]
     },
     "execution_count": 16,
     "metadata": {},
     "output_type": "execute_result"
    }
   ],
   "source": [
    "cnn.add(tf.keras.layers.Flatten())\n",
    "cnn.add(tf.keras.layers.Dense(units=128, activation='relu'))\n",
    "#cnn.add(tf.keras.layers.Dense(units=1, activation='sigmoid'))\n",
    "cnn.add(tf.keras.layers.Dense(3, activation='softmax'))\n",
    "cnn.compile(loss = 'categorical_crossentropy', optimizer='adam', metrics = ['accuracy'])\n",
    "cnn.fit(x = training_set, validation_data = test_set, epochs = 30)"
   ]
  },
  {
   "cell_type": "code",
   "execution_count": 20,
   "id": "687ca39f-352f-4756-8872-fa4bf5b11692",
   "metadata": {},
   "outputs": [
    {
     "name": "stdout",
     "output_type": "stream",
     "text": [
      "1/1 [==============================] - 1s 573ms/step\n",
      "0\n"
     ]
    }
   ],
   "source": [
    "import numpy as np\n",
    "from tensorflow.keras.preprocessing import image\n",
    "\n",
    "test_image = image.load_img(\"C:/Users/DELL/Downloads/Covid19-dataset/test/Covid/094.png\" , target_size = (64, 64))\n",
    "\n",
    "\n",
    "test_image = image.img_to_array(test_image)\n",
    "test_image = np.expand_dims(test_image,axis = 0)\n",
    "\n",
    "\n",
    "result = cnn.predict(test_image)\n",
    "\n",
    "result=result.astype(int)\n",
    "Y=training_set.class_indices\n",
    "j=0\n",
    "i = 0\n",
    "while i < 3:\n",
    "    \n",
    "    if result[0][i] == 1:\n",
    "        break\n",
    "    i=i+1\n",
    "print(i)\n",
    "j=i\n",
    "if j == 0:\n",
    " prediction = 'covid'\n",
    "    \n",
    "elif j == 1:\n",
    " prediction = 'normal'\n",
    "elif j == 2:\n",
    " prediction = 'viral'"
   ]
  },
  {
   "cell_type": "code",
   "execution_count": 21,
   "id": "26213616-77a2-46a0-b57f-6a8e9fc5b9fd",
   "metadata": {},
   "outputs": [
    {
     "name": "stdout",
     "output_type": "stream",
     "text": [
      "covid\n"
     ]
    }
   ],
   "source": [
    "print(prediction)"
   ]
  },
  {
   "cell_type": "code",
   "execution_count": null,
   "id": "f9ba40d6-2a66-4cfc-a569-5d436d86d723",
   "metadata": {},
   "outputs": [],
   "source": []
  }
 ],
 "metadata": {
  "kernelspec": {
   "display_name": "Python 3 (ipykernel)",
   "language": "python",
   "name": "python3"
  },
  "language_info": {
   "codemirror_mode": {
    "name": "ipython",
    "version": 3
   },
   "file_extension": ".py",
   "mimetype": "text/x-python",
   "name": "python",
   "nbconvert_exporter": "python",
   "pygments_lexer": "ipython3",
   "version": "3.9.7"
  }
 },
 "nbformat": 4,
 "nbformat_minor": 5
}
